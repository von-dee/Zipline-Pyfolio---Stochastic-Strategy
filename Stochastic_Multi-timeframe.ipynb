{
 "cells": [
  {
   "cell_type": "code",
   "execution_count": null,
   "metadata": {},
   "outputs": [],
   "source": [
    "%load_ext zipline"
   ]
  },
  {
   "cell_type": "code",
   "execution_count": null,
   "metadata": {},
   "outputs": [],
   "source": [
    "import os\n",
    "import pyfolio as pf\n",
    "import pandas as pd\n",
    "from zipline.utils.run_algo import load_extensions\n",
    "\n",
    "load_extensions(\n",
    "    default=True,\n",
    "    extensions=[],\n",
    "    strict=True,\n",
    "    environ=os.environ,\n",
    ")"
   ]
  },
  {
   "cell_type": "code",
   "execution_count": null,
   "metadata": {},
   "outputs": [],
   "source": [
    "from zipline.data import bundles\n",
    "\n",
    "bundle = bundles.load('eu_stocks_algo')\n",
    "bundle.asset_finder.retrieve_all(bundle.asset_finder.sids)"
   ]
  },
  {
   "cell_type": "raw",
   "metadata": {},
   "source": [
    "# Stochastic strategy"
   ]
  },
  {
   "cell_type": "code",
   "execution_count": null,
   "metadata": {},
   "outputs": [],
   "source": [
    "%%zipline --start 2018-1-1 --end 2018-12-31 --capital-base 1000.0 -o stochastic.pkl --bundle eu_stocks_algo --trading-calendar XAMS\n",
    "\n",
    "# imports ----\n",
    "from zipline.api import order_target, record, symbol, set_commission, cancel_order, order_percent\n",
    "import matplotlib.pyplot as plt\n",
    "import talib as ta\n",
    "from zipline.finance import commission\n",
    "\n",
    "# parameters ----\n",
    "SELECTED_STOCK = 'AEX'\n",
    "\n",
    " #initialize the strategy \n",
    "def initialize(context):\n",
    "    context.asset = symbol(SELECTED_STOCK)\n",
    "    context.set_commission(commission.PerShare(cost=0.0, min_trade_cost=0))\n",
    "    context.has_position = False\n",
    "    \n",
    "def handle_data(context, data):\n",
    "    \n",
    "    price_history = data.history(context.asset, fields=\"price\", bar_count=34, frequency=\"1d\")\n",
    "    highs_history = data.history(context.asset, fields=\"high\", bar_count=34, frequency=\"1d\")\n",
    "    lows_history = data.history(context.asset, fields=\"low\", bar_count=34, frequency=\"1d\")\n",
    "    \n",
    "    slowk,slowd = ta.STOCH(highs_history.values, lows_history.values, price_history.values, fastk_period=5, slowk_period=3, slowk_matype=0, slowd_period=3, slowd_matype=0)\n",
    "    \n",
    "    \n",
    "    for i in range(1,len(slowk)):\n",
    "        if (slowk[i-1] <= slowd[i-1]) and (slowk[i] >= slowd[i]) and not (context.has_position):\n",
    "            order_percent(context.asset, 1)\n",
    "            context.has_position = True\n",
    "        elif (slowk[i-1] >= slowd[i-1]) and (slowk[i] <= slowd[i]) and (context.has_position):\n",
    "            order_target(context.asset, 0)\n",
    "            context.has_position = False\n",
    "        else:\n",
    "            order_target(context.asset, 0)\n",
    "            context.has_position = False\n",
    "            \n",
    "        record(slowk =  slowk[-1], slowd = slowd[-1], price=price_history[-1])\n",
    "        \n",
    "  "
   ]
  },
  {
   "cell_type": "code",
   "execution_count": null,
   "metadata": {},
   "outputs": [],
   "source": [
    "stochastic_results = pd.read_pickle('stochastic.pkl')"
   ]
  },
  {
   "cell_type": "code",
   "execution_count": null,
   "metadata": {},
   "outputs": [],
   "source": [
    "import qf_helper_functions as qf\n",
    "qf.visualize_results(stochastic_results, 'Stochastic Strategy - UNA', '€')"
   ]
  },
  {
   "cell_type": "code",
   "execution_count": null,
   "metadata": {},
   "outputs": [],
   "source": [
    "stochastic_perf = qf.get_performance_summary(stochastic_results.returns)\n",
    "print(stochastic_perf)"
   ]
  },
  {
   "cell_type": "code",
   "execution_count": null,
   "metadata": {},
   "outputs": [],
   "source": [
    "perf_df = pd.DataFrame({'stochastic performance': stochastic_perf})\n",
    "perf_df.transpose()"
   ]
  },
  {
   "cell_type": "markdown",
   "metadata": {},
   "source": [
    "# Pyfolio Analysis"
   ]
  },
  {
   "cell_type": "code",
   "execution_count": null,
   "metadata": {},
   "outputs": [],
   "source": [
    "returns, positions, transactions = pf.utils.extract_rets_pos_txn_from_zipline(stochastic_results)"
   ]
  },
  {
   "cell_type": "code",
   "execution_count": null,
   "metadata": {},
   "outputs": [],
   "source": [
    "returns.head()"
   ]
  },
  {
   "cell_type": "code",
   "execution_count": null,
   "metadata": {},
   "outputs": [],
   "source": [
    "positions.head()"
   ]
  },
  {
   "cell_type": "code",
   "execution_count": null,
   "metadata": {},
   "outputs": [],
   "source": [
    "transactions.head()"
   ]
  },
  {
   "cell_type": "code",
   "execution_count": null,
   "metadata": {},
   "outputs": [],
   "source": [
    "pf.create_simple_tear_sheet(returns)"
   ]
  },
  {
   "cell_type": "code",
   "execution_count": null,
   "metadata": {},
   "outputs": [],
   "source": [
    "pf.create_full_tear_sheet(returns)"
   ]
  },
  {
   "cell_type": "markdown",
   "metadata": {},
   "source": [
    "# Single Plot Example"
   ]
  },
  {
   "cell_type": "code",
   "execution_count": null,
   "metadata": {},
   "outputs": [],
   "source": [
    "pf.plot_drawdown_periods(returns, top=5).set_xlabel('Date')"
   ]
  },
  {
   "cell_type": "markdown",
   "metadata": {},
   "source": [
    "# Full Tear Sheet Example"
   ]
  },
  {
   "cell_type": "code",
   "execution_count": null,
   "metadata": {},
   "outputs": [],
   "source": [
    "pf.create_full_tear_sheet(returns, positions=positions, transactions=transactions,\n",
    "                          live_start_date='2018-1-5', round_trips=True)"
   ]
  },
  {
   "cell_type": "code",
   "execution_count": null,
   "metadata": {},
   "outputs": [],
   "source": []
  }
 ],
 "metadata": {
  "kernelspec": {
   "display_name": "Python (zipline)",
   "language": "python",
   "name": "env_zipline"
  },
  "language_info": {
   "codemirror_mode": {
    "name": "ipython",
    "version": 3
   },
   "file_extension": ".py",
   "mimetype": "text/x-python",
   "name": "python",
   "nbconvert_exporter": "python",
   "pygments_lexer": "ipython3",
   "version": "3.5.6"
  }
 },
 "nbformat": 4,
 "nbformat_minor": 2
}
